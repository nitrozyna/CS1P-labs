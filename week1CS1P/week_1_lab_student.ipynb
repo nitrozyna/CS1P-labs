{
 "cells": [
  {
   "cell_type": "markdown",
   "metadata": {},
   "source": [
    "# Week 1 : Lab \n",
    " ## Elements: Statements, expressions, variables and types\n",
    " ##### CS1P - University of Glasgow - John Williamson - 2016"
   ]
  },
  {
   "cell_type": "markdown",
   "metadata": {},
   "source": [
    "#### <font color=\"red\"> Before you start: click on the cell below and press SHIFT-ENTER to run it! </font>"
   ]
  },
  {
   "cell_type": "code",
   "execution_count": 23,
   "metadata": {
    "collapsed": false
   },
   "outputs": [
    {
     "name": "stdout",
     "output_type": "stream",
     "text": [
      "Ready to go\n"
     ]
    }
   ],
   "source": [
    "#### MAKE SURE YOU RUN THIS CELL #####\n",
    "from __future__ import division   # make division work like Python 3.x\n",
    "import IPython\n",
    "import math\n",
    "HTML = IPython.display.HTML\n",
    "print \"Ready to go\" "
   ]
  },
  {
   "cell_type": "markdown",
   "metadata": {},
   "source": [
    "## Tutor notes\n",
    "* If you don't see \"Ready to go\" printed at the top of a students notebook, make sure they run the first cell!\n",
    "* The students *should* have attempted the A problems before the lab.\n",
    "* The solutions for each step are provided for you."
   ]
  },
  {
   "cell_type": "markdown",
   "metadata": {},
   "source": []
  },
  {
   "cell_type": "markdown",
   "metadata": {},
   "source": [
    "\n",
    "## Lab exercise\n",
    "**You must make a reasonable attempt at this exercise to gain a tick for this lab**.\n",
    "\n",
    "<font color=\"red\"> Remember to save your work frequently and make backups! </font>\n"
   ]
  },
  {
   "cell_type": "markdown",
   "metadata": {},
   "source": [
    "\n",
    "## Purpose of this lab\n",
    "This lab will get you up to speed in:\n",
    "\n",
    "* writing expressions\n",
    "* working with variables and types\n",
    "* breaking code into meaningful chunks\n",
    "\n"
   ]
  },
  {
   "cell_type": "markdown",
   "metadata": {},
   "source": [
    "## Before the lab\n",
    "* Read Chapter 2 of \"Think Like a Computer Scientist\".\n",
    "* Attempt at least the A exercises *before coming to the lab*. \n",
    "* Even if you don't have access to a machine, work out the solutions on paper. Ask your tutor if you have any questions.\n",
    "\n"
   ]
  },
  {
   "cell_type": "markdown",
   "metadata": {},
   "source": [
    "## Introduction\n",
    "We'll use the **if** statement in this lab. In Python we can write **if** statements like this:\n",
    "\n",
    "    if x==5:\n",
    "         print \"x is 5\"\n",
    "    else:\n",
    "         print \"x is not 5\"\n",
    "     \n",
    "Note that the `if` and `else` finish with a colon, and the following code inside is all **indented** (spaced to the right). Everything which is indented is executed if the condition (x==5, in this example) is True.\n",
    "\n",
    "You must get this spacing right, or the code will not do what you expect! \n",
    "\n",
    "The else is optional, so you can write things like:\n",
    "\n",
    "    if x==5:\n",
    "        print \"x is 5\"\n",
    "\n",
    "Which will only print a message if x is 5 and do nothing otherwise.\n",
    "\n",
    "Run the examples below to get a feeling for what is happening. Try modifying them if you want:"
   ]
  },
  {
   "cell_type": "code",
   "execution_count": 4,
   "metadata": {
    "collapsed": false
   },
   "outputs": [
    {
     "name": "stdout",
     "output_type": "stream",
     "text": [
      "The light is on\n",
      "light = on\n"
     ]
    }
   ],
   "source": [
    "on = True\n",
    "if on:\n",
    "    # note that everything with the *same* indent from the left\n",
    "    # is collected together into one \"block\" of code\n",
    "    print \"The light is on\"\n",
    "    print \"light = on\"\n",
    "else:\n",
    "    print \"The light is off\"\n",
    "    print \"light = off\""
   ]
  },
  {
   "cell_type": "code",
   "execution_count": 6,
   "metadata": {
    "collapsed": false
   },
   "outputs": [
    {
     "name": "stdout",
     "output_type": "stream",
     "text": [
      "X is 5\n"
     ]
    }
   ],
   "source": [
    "x = 5\n",
    "# no else statement is required\n",
    "if x == 5:\n",
    "    print \"X is 5\""
   ]
  },
  {
   "cell_type": "code",
   "execution_count": 7,
   "metadata": {
    "collapsed": false
   },
   "outputs": [
    {
     "ename": "IndentationError",
     "evalue": "expected an indented block (<ipython-input-7-7e3ccd942e98>, line 4)",
     "output_type": "error",
     "traceback": [
      "\u001b[0;36m  File \u001b[0;32m\"<ipython-input-7-7e3ccd942e98>\"\u001b[0;36m, line \u001b[0;32m4\u001b[0m\n\u001b[0;31m    print \"x==5\" # wrong! the print must have spaces in front\u001b[0m\n\u001b[0m        ^\u001b[0m\n\u001b[0;31mIndentationError\u001b[0m\u001b[0;31m:\u001b[0m expected an indented block\n"
     ]
    }
   ],
   "source": [
    "## when you run this cell *you will get an error*\n",
    "## This code is not valid -- the lines must be indented correctly\n",
    "if x==5:\n",
    "print \"x==5\" # wrong! the print must have spaces in front"
   ]
  },
  {
   "cell_type": "code",
   "execution_count": null,
   "metadata": {
    "collapsed": false
   },
   "outputs": [],
   "source": [
    "## when you run this cell *you will get an error*\n",
    "## This code is not valid -- the lines must be indented correctly\n",
    "if x==5:\n",
    "    print \"x==5\" # ok\n",
    "  print \"x==3\" # wrong! each line must have the *same* indentation\n",
    "\n",
    "# notice that the notebook warns you that this code \n",
    "# is wrong by highlighting it in red"
   ]
  },
  {
   "cell_type": "markdown",
   "metadata": {},
   "source": [
    "## A: Quick problems\n",
    "These should take around 5-10 minutes each."
   ]
  },
  {
   "cell_type": "markdown",
   "metadata": {},
   "source": [
    "## A.1 Pizza\n",
    "Write a short piece of code that computes the total number of hungry people given the following definition. Store the value in the variable `hungry_people` and also print it out using `print`.\n",
    "\n",
    "Comment your solution."
   ]
  },
  {
   "cell_type": "code",
   "execution_count": null,
   "metadata": {
    "collapsed": true
   },
   "outputs": [],
   "source": [
    "# Number of standard slices we get per inch diameter of pizza (e.g. 18\" = 12 slice pizza)\n",
    "pizza_slices_per_inch = 0.75\n",
    "\n",
    "# Number of standard slices each person needs to eat to be not hungry\n",
    "pizza_slices_per_person = 3 # everyone is very greedy\n",
    "\n",
    "# number of people waiting for pizza\n",
    "people = 14\n",
    "\n",
    "# two pizzas arrive\n",
    "\n",
    "# size of first pizza that arrived\n",
    "pizza_1 = 16\n",
    "\n",
    "# size of second pizza that arrived\n",
    "pizza_2 = 24"
   ]
  },
  {
   "cell_type": "markdown",
   "metadata": {},
   "source": [
    "\n",
    "<img src=\"imgs/pizza_slices.png\" width=\"400px\">"
   ]
  },
  {
   "cell_type": "code",
   "execution_count": 16,
   "metadata": {
    "collapsed": false
   },
   "outputs": [
    {
     "name": "stdout",
     "output_type": "stream",
     "text": [
      "4.0\n"
     ]
    }
   ],
   "source": [
    "# Solution goes here\n",
    "pizza_slices_per_inch = 0.75\n",
    "\n",
    "people = 14 #number of people\n",
    "\n",
    "pizza_slices_per_person = 3\n",
    "\n",
    "pizza_1 = 16 #the size of first pizza that needs to be devided between hungry people\n",
    "\n",
    "pizza_2 = 24 #the size of second pizza that needs to be devided between hungry people\n",
    "\n",
    "pizza_slices_per_inch = 0.75 # the amount of a slice of pizza available per inch\n",
    "\n",
    "slice_number_pizza_1 = pizza_1 * pizza_slices_per_inch #amount of slices in the first pizza\n",
    "\n",
    "slice_number_pizza_2 = pizza_2 * pizza_slices_per_inch #amount of slices in in the second pizza\n",
    "\n",
    "total_slice_number = slice_number_pizza_1 + slice_number_pizza_2 #amount of slices from both pizzas combined\n",
    "\n",
    "slice_number_needed = people * pizza_slices_per_person #number of slices needed for all the people present\n",
    "\n",
    "slice_number_not_present = slice_number_needed - total_slice_number #number of slices missing \n",
    "\n",
    "hungry_people = slice_number_not_present / pizza_slices_per_person #amount of people who didn't recieve their pizza slices\n",
    "\n",
    "print hungry_people #displaying this number of people\n",
    "\n",
    "\n",
    "\n",
    "\n",
    "\n",
    "\n"
   ]
  },
  {
   "cell_type": "code",
   "execution_count": 8,
   "metadata": {
    "collapsed": false
   },
   "outputs": [
    {
     "ename": "NameError",
     "evalue": "name 'hungry_people' is not defined",
     "output_type": "error",
     "traceback": [
      "\u001b[0;31m---------------------------------------------------------------------------\u001b[0m",
      "\u001b[0;31mNameError\u001b[0m                                 Traceback (most recent call last)",
      "\u001b[0;32m<ipython-input-8-11c7eece243d>\u001b[0m in \u001b[0;36m<module>\u001b[0;34m()\u001b[0m\n\u001b[1;32m      3\u001b[0m \u001b[0;31m## If you see an error when you run this cell, adjust the solution above.\u001b[0m\u001b[0;34m\u001b[0m\u001b[0;34m\u001b[0m\u001b[0m\n\u001b[1;32m      4\u001b[0m \u001b[0;31m## Here, the answer is obvious, but it is the way you solved it that is important!\u001b[0m\u001b[0;34m\u001b[0m\u001b[0;34m\u001b[0m\u001b[0m\n\u001b[0;32m----> 5\u001b[0;31m \u001b[0;32massert\u001b[0m\u001b[0;34m(\u001b[0m\u001b[0mhungry_people\u001b[0m\u001b[0;34m==\u001b[0m\u001b[0;36m4\u001b[0m\u001b[0;34m)\u001b[0m\u001b[0;34m\u001b[0m\u001b[0m\n\u001b[0m",
      "\u001b[0;31mNameError\u001b[0m: name 'hungry_people' is not defined"
     ]
    }
   ],
   "source": [
    "## Tests\n",
    "## Running this cell will test if your solution was correct.\n",
    "## If you see an error when you run this cell, adjust the solution above.\n",
    "## Here, the answer is obvious, but it is the way you solved it that is important!\n",
    "assert(hungry_people==4)"
   ]
  },
  {
   "cell_type": "markdown",
   "metadata": {},
   "source": [
    "## A.2 Inspecting types\n",
    "Print out the type of each of the following values. Use the `type()` function to do it like this:\n",
    "\n",
    "    print \"5\", type(5)\n",
    "\n",
    "Print the type of the following values:\n",
    "\n",
    "    5\n",
    "    5.0\n",
    "    True\n",
    "    \"hello\"\n",
    "    'hello'\n",
    "    [1,2,3]\n",
    "    (4,5,6)\n",
    "    len\n",
    "    {\"topping\":\"pepperoni\"}\n",
    "    7 + 9\n",
    "    \"six\" + \"seven\"\n",
    "    None\n",
    "\n",
    "\n",
    "Make sure you understand what Python is printing -- why does 5 print something different from 5.0? What is type of an expression like 7+9?\n",
    "\n",
    "*(feel free to use a loop if you already know how)*\n",
    "\n",
    "**Hint: you can use either \" or ' to start and end a string literal, as long as they match**"
   ]
  },
  {
   "cell_type": "code",
   "execution_count": 36,
   "metadata": {
    "collapsed": false
   },
   "outputs": [
    {
     "name": "stdout",
     "output_type": "stream",
     "text": [
      "5 <type 'int'>\n",
      "5.0 <type 'float'>\n",
      "True <type 'bool'>\n",
      "hello <type 'str'>\n",
      "hello <type 'str'>\n",
      "[1, 2, 3] <type 'list'>\n",
      "(4, 5, 6) <type 'tuple'>\n",
      "<built-in function len> <type 'builtin_function_or_method'>\n",
      "{'topping': 'pepperoni'} <type 'dict'>\n",
      "16 <type 'int'>\n",
      "sixseven <type 'str'>\n"
     ]
    },
    {
     "ename": "NameError",
     "evalue": "name 'tusoa' is not defined",
     "output_type": "error",
     "traceback": [
      "\u001b[0;31m---------------------------------------------------------------------------\u001b[0m",
      "\u001b[0;31mNameError\u001b[0m                                 Traceback (most recent call last)",
      "\u001b[0;32m<ipython-input-36-7a4ba14dc085>\u001b[0m in \u001b[0;36m<module>\u001b[0;34m()\u001b[0m\n\u001b[1;32m     21\u001b[0m \u001b[0;32mprint\u001b[0m \u001b[0;34m\"six\"\u001b[0m \u001b[0;34m+\u001b[0m \u001b[0;34m\"seven\"\u001b[0m\u001b[0;34m,\u001b[0m \u001b[0mtype\u001b[0m\u001b[0;34m(\u001b[0m\u001b[0;34m\"six\"\u001b[0m \u001b[0;34m+\u001b[0m \u001b[0;34m\"seven\"\u001b[0m\u001b[0;34m)\u001b[0m\u001b[0;34m\u001b[0m\u001b[0m\n\u001b[1;32m     22\u001b[0m \u001b[0;34m\u001b[0m\u001b[0m\n\u001b[0;32m---> 23\u001b[0;31m \u001b[0;32mprint\u001b[0m \u001b[0mtusoa\u001b[0m\u001b[0;34m,\u001b[0m \u001b[0mtype\u001b[0m\u001b[0;34m(\u001b[0m\u001b[0mtusoa\u001b[0m\u001b[0;34m)\u001b[0m\u001b[0;34m\u001b[0m\u001b[0m\n\u001b[0m",
      "\u001b[0;31mNameError\u001b[0m: name 'tusoa' is not defined"
     ]
    }
   ],
   "source": [
    "print \"5\", type(5)\n",
    "\n",
    "print \"5.0\", type(5.0)\n",
    "\n",
    "print \"True\", type(True)\n",
    "\n",
    "print \"hello\", type(\"hello\")\n",
    "\n",
    "print 'hello', type('hello')\n",
    "\n",
    "print [1,2,3], type([1,2,3])\n",
    "\n",
    "print (4,5,6), type((4,5,6))\n",
    "\n",
    "print len, type(len)\n",
    "\n",
    "print {\"topping\":\"pepperoni\"}, type({\"topping\":\"pepperoni\"})\n",
    "\n",
    "print 7 + 9, type(7 + 9)\n",
    "\n",
    "print \"six\" + \"seven\", type(\"six\" + \"seven\")\n",
    "\n",
    "print None, type(None)\n"
   ]
  },
  {
   "cell_type": "markdown",
   "metadata": {},
   "source": [
    "## A.3 Precedence\n",
    "The following expressions give the wrong answers because the operator precedence is wrong. Fix them so they do what the comments say they do! You will need to use parentheses and possibly rearrange the expression.\n"
   ]
  },
  {
   "cell_type": "code",
   "execution_count": 48,
   "metadata": {
    "collapsed": false
   },
   "outputs": [
    {
     "name": "stdout",
     "output_type": "stream",
     "text": [
      "256.0\n",
      "2347581.68\n",
      "Is the cat OK? True\n",
      "1632000000.0 pieces of gravel\n"
     ]
    }
   ],
   "source": [
    "# Square of half of the total_views\n",
    "total_views = 32\n",
    "print (total_views / 2) ** 2\n",
    "\n",
    "# The total number of road signs seen by all non-car vehicles in one day is:\n",
    "# Difference between the number of cars and the total number of vehicles \n",
    "# times the miles of road  \n",
    "# times the number of road signs per mile minus the number of missing signs\n",
    "vehicles = 130141\n",
    "cars = 61937\n",
    "miles = 61.5\n",
    "signs_per_mile = 1.08\n",
    "missing_signs = 32\n",
    "print (vehicles - cars) * ((miles * signs_per_mile) - missing_signs)\n",
    "\n",
    "## ok is True if door is open and the cat is fed, or the cat is outside\n",
    "cat_inside = False\n",
    "cat_fed = True\n",
    "door_open = True\n",
    "ok = door_open and cat_fed or not cat_inside\n",
    "print \"Is the cat OK?\", ok\n",
    "\n",
    "# number of pieces of gravel in a dump truck is length*width*depth \n",
    "# minus the volume of the cab\n",
    "# divided by the average size of a piece of gravel\n",
    "# NB: this should be a positive quantity!\n",
    "length = 20\n",
    "width = 4\n",
    "depth = 11\n",
    "avg_gravel_size = 0.0000005\n",
    "cab_volume = 64\n",
    "print length*width*(depth - cab_volume) / avg_gravel_size, \"pieces of gravel\"\n",
    "\n"
   ]
  },
  {
   "cell_type": "code",
   "execution_count": 49,
   "metadata": {
    "collapsed": false
   },
   "outputs": [
    {
     "name": "stdout",
     "output_type": "stream",
     "text": [
      "1632000000.0 pieces of gravel\n"
     ]
    }
   ],
   "source": [
    "length = 20\n",
    "width = 4\n",
    "depth = 11\n",
    "avg_gravel_size = 0.0000005\n",
    "cab_volume = 64\n",
    "print ((length*width*depth) - cab_volume) / avg_gravel_size, \"pieces of gravel\""
   ]
  },
  {
   "cell_type": "markdown",
   "metadata": {},
   "source": [
    "### A.4 Card counting\n",
    "<img src=\"imgs/cards.png\" width=\"400px\">\n",
    "\n",
    "One of the nice things about Python is that it has **bignums** -- integers can represent any size of number without any problems. \n",
    "\n",
    "For example `2 ** (32 ** 2)` is a very large number indeed ($2^{(32^2)}$)-- but Python can compute it just fine:"
   ]
  },
  {
   "cell_type": "code",
   "execution_count": 50,
   "metadata": {
    "collapsed": false
   },
   "outputs": [
    {
     "data": {
      "text/plain": [
       "179769313486231590772930519078902473361797697894230657273430081157732675805500963132708477322407536021120113879871393357658789768814416622492847430639474124377767893424865485276302219601246094119453082952085005768838150682342462881473913110540827237163350510684586298239947245938479716304835356329624224137216L"
      ]
     },
     "execution_count": 50,
     "metadata": {},
     "output_type": "execute_result"
    }
   ],
   "source": [
    "2 ** (32 ** 2)"
   ]
  },
  {
   "cell_type": "markdown",
   "metadata": {},
   "source": [
    "There are `52! = 52 * 51 * 50 ... * 2 * 1` ways to shuffle a deck of cards. ! means **factorial**. We can get a factorial function in Python from the `math` module (a **module** is just a collection of Python values and functions):"
   ]
  },
  {
   "cell_type": "code",
   "execution_count": 53,
   "metadata": {
    "collapsed": false
   },
   "outputs": [
    {
     "data": {
      "text/plain": [
       "80658175170943878571660636856403766975289505440883277824000000000000L"
      ]
     },
     "execution_count": 53,
     "metadata": {},
     "output_type": "execute_result"
    }
   ],
   "source": [
    "import math\n",
    "math.factorial(20)"
   ]
  },
  {
   "cell_type": "markdown",
   "metadata": {},
   "source": [
    "### Card counting\n",
    "Problem:\n",
    "* There are 52! ways to shuffle a deck of cards.\n",
    "* There are `60 * 60 * 24 * 365` seconds in a year. *[Yes, I know this does not account for leap years...]*\n",
    "* If a computer ran through each possible ordering of cards 1 trillion times (`10 ** 12`) times per second, how many years would it take to run through each possible ordering?\n",
    "\n",
    "**Note: use // to get integer division for this problem. For example 7 // 2 = 3. If you write 7/3 you'll get 3.50, which we don't want here. **\n"
   ]
  },
  {
   "cell_type": "code",
   "execution_count": 68,
   "metadata": {
    "collapsed": false
   },
   "outputs": [
    {
     "name": "stdout",
     "output_type": "stream",
     "text": [
      "2557653956460676007472749773478049434782138046704822356164383561643835616\n"
     ]
    }
   ],
   "source": [
    "import math\n",
    "\n",
    "ways_to_shuffle_deck = math.factorial(52)\n",
    "\n",
    "seconds_in_year = 60 * 60 * 24 * 365\n",
    "\n",
    "each_ordering_of_card = 10**12\n",
    "\n",
    "number_of_years = (each_ordering_of_card * ways_to_shuffle_deck) // seconds_in_year\n",
    "\n",
    "print number_of_years\n",
    "\n"
   ]
  },
  {
   "cell_type": "markdown",
   "metadata": {},
   "source": [
    "Now imagine we have two decks of cards. This is 104 cards total.\n",
    "\n",
    "There are roughly `10 ** 80` particles (protons, neutrons, electrons) in the universe. If each of these was a computer in its own right, still running at 1000000000 shuffles/second, how long would it take to go through all the orderings of both decks? "
   ]
  },
  {
   "cell_type": "code",
   "execution_count": 66,
   "metadata": {
    "collapsed": false
   },
   "outputs": [
    {
     "name": "stdout",
     "output_type": "stream",
     "text": [
      "3265796786258760662052442879491706076564488982432481031939843917075048114052285380055400136\n"
     ]
    }
   ],
   "source": [
    "import math\n",
    "\n",
    "ways_to_shuffle_deck = math.factorial(104)\n",
    "\n",
    "seconds_in_year = 60 * 60 * 24 * 365\n",
    "\n",
    "each_ordering_of_card = 10**12\n",
    "\n",
    "number_of_computers = 10 ** 80\n",
    "\n",
    "number_of_years = ((each_ordering_of_card * ways_to_shuffle_deck) // number_of_computers) // seconds_in_year\n",
    "\n",
    "print number_of_years\n"
   ]
  },
  {
   "cell_type": "markdown",
   "metadata": {},
   "source": [
    "## B. A NASA engineer\n",
    "<img src=\"imgs/lunar.jpg\" width=\"400px\">\n",
    "\n",
    "\n",
    "## B.1 Moon landing\n",
    "\n",
    "<img src=\"imgs/margaret_hamilton.jpeg\">\n",
    "<font color=\"grey\"> *[Margaret Hamilton, the software engineer who led the software development for the Apollo landing missions]* </font>\n",
    "\n",
    "You are a NASA engineer, and have to land a lunar module on the Moon. \n",
    "To do this, you need to fire your rockets at the right time. \n",
    "\n",
    "\n",
    "Your technical director gives you requirements for the flight:\n",
    "1. The landar can survive a maximum landing speed of just 0.25 m/s without being damaged.\n",
    "1. Your thrusters can only be on or off: fuel is going being fed to them or it is not.\n",
    "\n",
    "He also gives you a list of technical specifications:\n",
    "\n",
    "*Your fuel has density 0.8Kg per litre; The module (without fuel) has mass 2500Kg; You have 1500L of fuel; You have 100L of oxgyen...*\n",
    "\n",
    "Unfortunately, you skipped all your space landing classes and have no idea how to work out how to do this. Helpfully, a friendly control engineer has worked out how to do solve the problem *without doing any complicated calculations*:\n",
    "\n",
    "1. If your speed of descent > sqrt(distance to the surface), turn your thrusters on. Otherwise, turn them off.\n",
    "\n",
    "Implement this rule. You can use the `math.sqrt()` function to compute the square root of a number. Remember to import `math` as in `A.4`.\n",
    "\n"
   ]
  },
  {
   "cell_type": "code",
   "execution_count": 3,
   "metadata": {
    "collapsed": false
   },
   "outputs": [],
   "source": [
    "import lunar\n",
    "\n",
    "def rocket_fn(distance_to_surface, velocity):\n",
    "    import math  \n",
    "    if velocity > math.sqrt(distance_to_surface):\n",
    "        thrust = True\n",
    "    else:\n",
    "        thrust = False\n",
    "        \n",
    "    ## it must set thrust to True if the thruster is to be engaged\n",
    "    return thrust"
   ]
  },
  {
   "cell_type": "code",
   "execution_count": 27,
   "metadata": {
    "collapsed": false
   },
   "outputs": [
    {
     "name": "stdout",
     "output_type": "stream",
     "text": [
      "OU\n"
     ]
    },
    {
     "name": "stderr",
     "output_type": "stream",
     "text": [
      "Exception in Tkinter callback\n",
      "Traceback (most recent call last):\n",
      "  File \"/usr/lib/python2.7/lib-tk/Tkinter.py\", line 1489, in __call__\n",
      "    return self.func(*args)\n",
      "  File \"/usr/lib/python2.7/lib-tk/Tkinter.py\", line 536, in callit\n",
      "    func(*args)\n",
      "  File \"canvas.py\", line 193, in update_tkinter\n",
      "    self.draw_fn(self._canvas)\n",
      "  File \"lunar.py\", line 38, in draw\n",
      "    width = float(canvas.cget(\"width\"))\n",
      "  File \"/usr/lib/python2.7/lib-tk/Tkinter.py\", line 1278, in cget\n",
      "    return self.tk.call(self._w, 'cget', '-' + key)\n",
      "TclError: invalid command name \".140040912765008\"\n"
     ]
    },
    {
     "name": "stdout",
     "output_type": "stream",
     "text": [
      "Impact velocity was -1.08 m/s: module damaged!\n"
     ]
    },
    {
     "data": {
      "text/plain": [
       "<lunar.Lander at 0x7f5dd0e9ab90>"
      ]
     },
     "execution_count": 27,
     "metadata": {},
     "output_type": "execute_result"
    }
   ],
   "source": [
    "import lunar\n",
    "# This code will run the lunar launch simulator\n",
    "# Let the code run until it stops\n",
    "# You should see a window showing you the progress of the lander\n",
    "lunar.simulate(rocket_fn)"
   ]
  },
  {
   "cell_type": "code",
   "execution_count": null,
   "metadata": {
    "collapsed": false,
    "scrolled": true
   },
   "outputs": [],
   "source": [
    "# Solution goes here"
   ]
  },
  {
   "cell_type": "code",
   "execution_count": null,
   "metadata": {
    "collapsed": true
   },
   "outputs": [],
   "source": []
  },
  {
   "cell_type": "markdown",
   "metadata": {},
   "source": [
    "### B.1.1 Optional extension \n",
    "Change the firing calculation to be more fuel or time efficient, if you can."
   ]
  },
  {
   "cell_type": "markdown",
   "metadata": {},
   "source": [
    "## B.2 Writing a report\n",
    "\n",
    "<img src=\"imgs/punch_card.jpg\" width=\"400px\">\n",
    "Your techinical director was impressed with your landing. Now you have to write a program to generate reports on what happened during the landing.  Thankfully, we don't have to use punched paper cards anymore -- we can format our data for display in the web browser.\n",
    "\n",
    "The landing program returns  some information about the landing process. These are stored in the variable `lander` that is returned. For example, you can try:"
   ]
  },
  {
   "cell_type": "code",
   "execution_count": 31,
   "metadata": {
    "collapsed": false
   },
   "outputs": [
    {
     "ename": "NameError",
     "evalue": "name 'lander' is not defined",
     "output_type": "error",
     "traceback": [
      "\u001b[0;31m---------------------------------------------------------------------------\u001b[0m",
      "\u001b[0;31mNameError\u001b[0m                                 Traceback (most recent call last)",
      "\u001b[0;32m<ipython-input-31-95603b963d91>\u001b[0m in \u001b[0;36m<module>\u001b[0;34m()\u001b[0m\n\u001b[1;32m      1\u001b[0m \u001b[0;32mimport\u001b[0m \u001b[0mlunar\u001b[0m\u001b[0;34m\u001b[0m\u001b[0m\n\u001b[0;32m----> 2\u001b[0;31m \u001b[0;32mprint\u001b[0m \u001b[0mlander\u001b[0m\u001b[0;34m.\u001b[0m\u001b[0mfuel\u001b[0m\u001b[0;34m\u001b[0m\u001b[0m\n\u001b[0m\u001b[1;32m      3\u001b[0m \u001b[0;32mprint\u001b[0m \u001b[0mlander\u001b[0m\u001b[0;34m.\u001b[0m\u001b[0mmax_speed\u001b[0m\u001b[0;34m\u001b[0m\u001b[0m\n",
      "\u001b[0;31mNameError\u001b[0m: name 'lander' is not defined"
     ]
    }
   ],
   "source": [
    "import lunar\n",
    "print lander.fuel\n",
    "print lander.max_speed"
   ]
  },
  {
   "cell_type": "markdown",
   "metadata": {},
   "source": [
    "to see how much fuel was left at landing.\n",
    "The variables you get from the lander are:\n",
    "\n",
    "* `lander.fuel` remaining fuel\n",
    "* `lander.max_speed` maximum speed of lander\n",
    "* `lander.velocity` the final landing speed\n",
    "* `lander.oxygen` the remaining oxygen on board\n",
    "* `lander.time` the descent time\n",
    "* `lander.launch_name` the launch name \n",
    "* `lander.module_name` the module name.\n",
    "\n",
    "## Formatting strings\n",
    "You can insert a number or a string inside another string using a % symbol like this:"
   ]
  },
  {
   "cell_type": "code",
   "execution_count": 10,
   "metadata": {
    "collapsed": false
   },
   "outputs": [
    {
     "name": "stdout",
     "output_type": "stream",
     "text": [
      "A squid has 10 legs and an octopus has 8 legs\n",
      "Gordon is in the test chamber.\n",
      "Did you know that sugar melts at 186 degrees C?\n",
      "The square root of 2 is 1.414214\n"
     ]
    }
   ],
   "source": [
    "## Note: the %d is the placeholder where the number goes, and there is then a %\n",
    "## *after* the string followed by the a list of values in brackets\n",
    "print \"A squid has %d legs and an octopus has %d legs\" % (10, 8)\n",
    "#                  ^--------------------------------------^\n",
    "#                                             ^---------------^\n",
    "\n",
    "## The same thing works for strings if use %s instead of %d\n",
    "print \"%s is in the %s.\" % (\"Gordon\", \"test chamber\")\n",
    "\n",
    "## You can mix them freely\n",
    "print \"Did you know that %s melts at %d degrees C?\" % (\"sugar\", 186)\n",
    "\n",
    "## If you use %f, you get a floating point number \n",
    "print \"The square root of 2 is %f\" % (math.sqrt(2))\n"
   ]
  },
  {
   "cell_type": "markdown",
   "metadata": {},
   "source": [
    "### Writing out HTML and long strings\n",
    "You need to write this out as a nice report. You can print out formatted HTML in the notebook using HTML(), as shown below.\n",
    "**If you get an error here, make sure you have run the first cell in the notebook!**"
   ]
  },
  {
   "cell_type": "code",
   "execution_count": 32,
   "metadata": {
    "collapsed": false
   },
   "outputs": [
    {
     "data": {
      "text/html": [
       "<center> <i> Centered and italic </i> </center>"
      ],
      "text/plain": [
       "<IPython.core.display.HTML object>"
      ]
     },
     "execution_count": 32,
     "metadata": {},
     "output_type": "execute_result"
    }
   ],
   "source": [
    "HTML(\"<center> <i> Centered and italic </i> </center>\")"
   ]
  },
  {
   "cell_type": "markdown",
   "metadata": {},
   "source": [
    "### Multi-line strings\n",
    "HTML() expects a string. In Python, you can write strings that go across multiple lines by using **three double quotes** \"\"\" like this:"
   ]
  },
  {
   "cell_type": "code",
   "execution_count": 19,
   "metadata": {
    "collapsed": false
   },
   "outputs": [
    {
     "name": "stdout",
     "output_type": "stream",
     "text": [
      "\n",
      "This is a valid\n",
      "string, even though\n",
      "it is on multiple\n",
      "lines.\n",
      "\n"
     ]
    }
   ],
   "source": [
    "multi_line = \"\"\"\n",
    "This is a valid\n",
    "string, even though\n",
    "it is on multiple\n",
    "lines.\n",
    "\"\"\"\n",
    "print multi_line"
   ]
  },
  {
   "cell_type": "code",
   "execution_count": 12,
   "metadata": {
    "collapsed": false
   },
   "outputs": [
    {
     "data": {
      "text/html": [
       "\n",
       "<h1> <font color=\"red\"> Big and red! </font> </H1>\n"
      ],
      "text/plain": [
       "<IPython.core.display.HTML object>"
      ]
     },
     "execution_count": 12,
     "metadata": {},
     "output_type": "execute_result"
    }
   ],
   "source": [
    "## Using HTML with a multiline string\n",
    "HTML(\"\"\"\n",
    "<h1> <font color=\"red\"> Big and red! </font> </H1>\n",
    "\"\"\")"
   ]
  },
  {
   "cell_type": "markdown",
   "metadata": {},
   "source": [
    "Note that the HTML() line **must be the last line in the cell**. \n",
    "\n",
    "## Task\n",
    "Using the string formatting commands (%f, %d, %s), write a report out which includes all of the relevant details about the launch. Use HTML to layout the information nicely (if you don't know any HTML, look up some simple HTML formatting on Google)."
   ]
  },
  {
   "cell_type": "code",
   "execution_count": null,
   "metadata": {
    "collapsed": false
   },
   "outputs": [],
   "source": [
    "# Solution goes here"
   ]
  },
  {
   "cell_type": "markdown",
   "metadata": {},
   "source": [
    "## B.3 Investing wisely\n",
    "Despite your excellent performance so far, unfortunately NASA has had its funding cut and will be firing you shortly.  Write a short Python program that will tell you if you have enough money to invest to retire comfortably.\n",
    "\n",
    "It should ask the user to provide:\n",
    "1. Their name.\n",
    "2. Their age.\n",
    "3. How much money they are going to invest.\n",
    "4. The interest rate on the investment, in percent.\n",
    "5. How much money per year they want to have as income, in pounds.\n",
    "\n",
    "And should print a polite message giving you a realistic view of your retirement prospects, like:\n",
    "\n",
    "    \"John, you can comfortably retire with a pension of £100 per year! \n",
    "    In fact, you're rich -- you will get £150000 per year!\"\n",
    "    \n",
    "or\n",
    "\n",
    "    \"Sorry, John, you will not be able to afford a pension of £100 per year at the moment :( \n",
    "    You will only get £3.50 per year. You can't even afford soup. \"\n",
    "\n",
    "You can assume that:\n",
    "\n",
    "1. People retire at 68.\n",
    "1. People die at 95.\n",
    "1. The of an investment after `n` years at a rate of `p` percent per year is given by `(1+p/100.0) ** n` times the original investment.\n",
    "1. Investments cease to increase in value when people retire.\n",
    "\n",
    "*(obviously, real investment calculations are much more complicated: interests rates change, income accues over time, people die at different ages, etc.)*\n",
    "\n",
    "## Hints\n",
    "\n",
    "* Remember that `raw_input()` gives you a string which you need to convert.\n",
    "\n"
   ]
  },
  {
   "cell_type": "code",
   "execution_count": null,
   "metadata": {
    "collapsed": false
   },
   "outputs": [],
   "source": [
    "name = raw_input(\"Please enter you name: \")\n",
    "\n",
    "age = input(\"Please enter your age: \")\n",
    "\n",
    "investment = raw_input(\"How much money would you like to invest?:\")\n",
    "\n",
    "interest_rate = raw_input(\"What is the interest rate on the investement? Plesase give it in precent: \")\n",
    "\n",
    "income = raw_input(\"How much money would you like to receive as your income? Please give the information in pounds: \")\n",
    "\n",
    "final_money_after_investment = investment * interest_rate \n",
    "\n"
   ]
  },
  {
   "cell_type": "code",
   "execution_count": 22,
   "metadata": {
    "collapsed": false
   },
   "outputs": [
    {
     "ename": "SyntaxError",
     "evalue": "invalid syntax (<ipython-input-22-b97f8d9c0738>, line 1)",
     "output_type": "error",
     "traceback": [
      "\u001b[0;36m  File \u001b[0;32m\"<ipython-input-22-b97f8d9c0738>\"\u001b[0;36m, line \u001b[0;32m1\u001b[0m\n\u001b[0;31m    print n = 7\u001b[0m\n\u001b[0m            ^\u001b[0m\n\u001b[0;31mSyntaxError\u001b[0m\u001b[0;31m:\u001b[0m invalid syntax\n"
     ]
    }
   ],
   "source": []
  },
  {
   "cell_type": "code",
   "execution_count": null,
   "metadata": {
    "collapsed": true
   },
   "outputs": [],
   "source": []
  }
 ],
 "metadata": {
  "kernelspec": {
   "display_name": "Python 2",
   "language": "python",
   "name": "python2"
  },
  "language_info": {
   "codemirror_mode": {
    "name": "ipython",
    "version": 2
   },
   "file_extension": ".py",
   "mimetype": "text/x-python",
   "name": "python",
   "nbconvert_exporter": "python",
   "pygments_lexer": "ipython2",
   "version": "2.7.6"
  }
 },
 "nbformat": 4,
 "nbformat_minor": 0
}
